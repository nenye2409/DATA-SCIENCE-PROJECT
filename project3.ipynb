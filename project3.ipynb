{
 "cells": [
  {
   "cell_type": "code",
   "execution_count": 1,
   "metadata": {},
   "outputs": [],
   "source": [
    "import numpy as np\n",
    "import pandas as pd\n",
    "import matplotlib.pyplot as plt\n",
    "import seaborn as sns\n",
    "import plotly.express as px\n",
    "from sklearn.model_selection import train_test_split\n",
    "from sklearn.preprocessing import StandardScaler, LabelEncoder\n",
    "from sklearn.pipeline import Pipeline\n",
    "from sklearn.linear_model import LinearRegression,Lasso,Ridge,ElasticNet\n",
    "from sklearn.tree import DecisionTreeRegressor\n",
    "from sklearn.svm import SVR\n",
    "from sklearn.ensemble import RandomForestRegressor\n",
    "from sklearn.neural_network import MLPRegressor\n",
    "from sklearn.metrics import r2_score, mean_absolute_error, mean_squared_error,mean_absolute_percentage_error"
   ]
  },
  {
   "cell_type": "code",
   "execution_count": 2,
   "metadata": {},
   "outputs": [
    {
     "data": {
      "text/html": [
       "<div>\n",
       "<style scoped>\n",
       "    .dataframe tbody tr th:only-of-type {\n",
       "        vertical-align: middle;\n",
       "    }\n",
       "\n",
       "    .dataframe tbody tr th {\n",
       "        vertical-align: top;\n",
       "    }\n",
       "\n",
       "    .dataframe thead th {\n",
       "        text-align: right;\n",
       "    }\n",
       "</style>\n",
       "<table border=\"1\" class=\"dataframe\">\n",
       "  <thead>\n",
       "    <tr style=\"text-align: right;\">\n",
       "      <th></th>\n",
       "      <th>age</th>\n",
       "      <th>sex</th>\n",
       "      <th>bmi</th>\n",
       "      <th>children</th>\n",
       "      <th>smoker</th>\n",
       "      <th>region</th>\n",
       "      <th>charges</th>\n",
       "    </tr>\n",
       "  </thead>\n",
       "  <tbody>\n",
       "    <tr>\n",
       "      <th>0</th>\n",
       "      <td>19</td>\n",
       "      <td>female</td>\n",
       "      <td>27.900</td>\n",
       "      <td>0</td>\n",
       "      <td>yes</td>\n",
       "      <td>southwest</td>\n",
       "      <td>16884.92400</td>\n",
       "    </tr>\n",
       "    <tr>\n",
       "      <th>1</th>\n",
       "      <td>18</td>\n",
       "      <td>male</td>\n",
       "      <td>33.770</td>\n",
       "      <td>1</td>\n",
       "      <td>no</td>\n",
       "      <td>southeast</td>\n",
       "      <td>1725.55230</td>\n",
       "    </tr>\n",
       "    <tr>\n",
       "      <th>2</th>\n",
       "      <td>28</td>\n",
       "      <td>male</td>\n",
       "      <td>33.000</td>\n",
       "      <td>3</td>\n",
       "      <td>no</td>\n",
       "      <td>southeast</td>\n",
       "      <td>4449.46200</td>\n",
       "    </tr>\n",
       "    <tr>\n",
       "      <th>3</th>\n",
       "      <td>33</td>\n",
       "      <td>male</td>\n",
       "      <td>22.705</td>\n",
       "      <td>0</td>\n",
       "      <td>no</td>\n",
       "      <td>northwest</td>\n",
       "      <td>21984.47061</td>\n",
       "    </tr>\n",
       "    <tr>\n",
       "      <th>4</th>\n",
       "      <td>32</td>\n",
       "      <td>male</td>\n",
       "      <td>28.880</td>\n",
       "      <td>0</td>\n",
       "      <td>no</td>\n",
       "      <td>northwest</td>\n",
       "      <td>3866.85520</td>\n",
       "    </tr>\n",
       "  </tbody>\n",
       "</table>\n",
       "</div>"
      ],
      "text/plain": [
       "   age     sex     bmi  children smoker     region      charges\n",
       "0   19  female  27.900         0    yes  southwest  16884.92400\n",
       "1   18    male  33.770         1     no  southeast   1725.55230\n",
       "2   28    male  33.000         3     no  southeast   4449.46200\n",
       "3   33    male  22.705         0     no  northwest  21984.47061\n",
       "4   32    male  28.880         0     no  northwest   3866.85520"
      ]
     },
     "execution_count": 2,
     "metadata": {},
     "output_type": "execute_result"
    }
   ],
   "source": [
    "df = pd.read_csv('insurance.csv')\n",
    "df.head()"
   ]
  },
  {
   "cell_type": "code",
   "execution_count": 3,
   "metadata": {},
   "outputs": [
    {
     "name": "stdout",
     "output_type": "stream",
     "text": [
      "<class 'pandas.core.frame.DataFrame'>\n",
      "RangeIndex: 1338 entries, 0 to 1337\n",
      "Data columns (total 7 columns):\n",
      " #   Column    Non-Null Count  Dtype  \n",
      "---  ------    --------------  -----  \n",
      " 0   age       1338 non-null   int64  \n",
      " 1   sex       1338 non-null   object \n",
      " 2   bmi       1338 non-null   float64\n",
      " 3   children  1338 non-null   int64  \n",
      " 4   smoker    1338 non-null   object \n",
      " 5   region    1338 non-null   object \n",
      " 6   charges   1338 non-null   float64\n",
      "dtypes: float64(2), int64(2), object(3)\n",
      "memory usage: 73.3+ KB\n"
     ]
    }
   ],
   "source": [
    "df.info()"
   ]
  },
  {
   "cell_type": "code",
   "execution_count": 4,
   "metadata": {},
   "outputs": [
    {
     "data": {
      "text/plain": [
       "age         0\n",
       "sex         0\n",
       "bmi         0\n",
       "children    0\n",
       "smoker      0\n",
       "region      0\n",
       "charges     0\n",
       "dtype: int64"
      ]
     },
     "execution_count": 4,
     "metadata": {},
     "output_type": "execute_result"
    }
   ],
   "source": [
    "df.isnull().sum()"
   ]
  },
  {
   "cell_type": "code",
   "execution_count": 5,
   "metadata": {},
   "outputs": [
    {
     "data": {
      "text/html": [
       "<div>\n",
       "<style scoped>\n",
       "    .dataframe tbody tr th:only-of-type {\n",
       "        vertical-align: middle;\n",
       "    }\n",
       "\n",
       "    .dataframe tbody tr th {\n",
       "        vertical-align: top;\n",
       "    }\n",
       "\n",
       "    .dataframe thead th {\n",
       "        text-align: right;\n",
       "    }\n",
       "</style>\n",
       "<table border=\"1\" class=\"dataframe\">\n",
       "  <thead>\n",
       "    <tr style=\"text-align: right;\">\n",
       "      <th></th>\n",
       "      <th>age</th>\n",
       "      <th>sex</th>\n",
       "      <th>bmi</th>\n",
       "      <th>children</th>\n",
       "      <th>smoker</th>\n",
       "      <th>region</th>\n",
       "      <th>charges</th>\n",
       "    </tr>\n",
       "  </thead>\n",
       "  <tbody>\n",
       "    <tr>\n",
       "      <th>0</th>\n",
       "      <td>19</td>\n",
       "      <td>0</td>\n",
       "      <td>27.900</td>\n",
       "      <td>0</td>\n",
       "      <td>1</td>\n",
       "      <td>3</td>\n",
       "      <td>16884.92400</td>\n",
       "    </tr>\n",
       "    <tr>\n",
       "      <th>1</th>\n",
       "      <td>18</td>\n",
       "      <td>1</td>\n",
       "      <td>33.770</td>\n",
       "      <td>1</td>\n",
       "      <td>0</td>\n",
       "      <td>2</td>\n",
       "      <td>1725.55230</td>\n",
       "    </tr>\n",
       "    <tr>\n",
       "      <th>2</th>\n",
       "      <td>28</td>\n",
       "      <td>1</td>\n",
       "      <td>33.000</td>\n",
       "      <td>3</td>\n",
       "      <td>0</td>\n",
       "      <td>2</td>\n",
       "      <td>4449.46200</td>\n",
       "    </tr>\n",
       "    <tr>\n",
       "      <th>3</th>\n",
       "      <td>33</td>\n",
       "      <td>1</td>\n",
       "      <td>22.705</td>\n",
       "      <td>0</td>\n",
       "      <td>0</td>\n",
       "      <td>1</td>\n",
       "      <td>21984.47061</td>\n",
       "    </tr>\n",
       "    <tr>\n",
       "      <th>4</th>\n",
       "      <td>32</td>\n",
       "      <td>1</td>\n",
       "      <td>28.880</td>\n",
       "      <td>0</td>\n",
       "      <td>0</td>\n",
       "      <td>1</td>\n",
       "      <td>3866.85520</td>\n",
       "    </tr>\n",
       "  </tbody>\n",
       "</table>\n",
       "</div>"
      ],
      "text/plain": [
       "   age  sex     bmi  children  smoker  region      charges\n",
       "0   19    0  27.900         0       1       3  16884.92400\n",
       "1   18    1  33.770         1       0       2   1725.55230\n",
       "2   28    1  33.000         3       0       2   4449.46200\n",
       "3   33    1  22.705         0       0       1  21984.47061\n",
       "4   32    1  28.880         0       0       1   3866.85520"
      ]
     },
     "execution_count": 5,
     "metadata": {},
     "output_type": "execute_result"
    }
   ],
   "source": [
    "category = df.select_dtypes(include=['object','category'])\n",
    "encoder = LabelEncoder()\n",
    "for x in category:\n",
    "    df[x] = encoder.fit_transform(df[x])\n",
    "df.head()"
   ]
  },
  {
   "cell_type": "code",
   "execution_count": 6,
   "metadata": {},
   "outputs": [
    {
     "data": {
      "text/html": [
       "<div>\n",
       "<style scoped>\n",
       "    .dataframe tbody tr th:only-of-type {\n",
       "        vertical-align: middle;\n",
       "    }\n",
       "\n",
       "    .dataframe tbody tr th {\n",
       "        vertical-align: top;\n",
       "    }\n",
       "\n",
       "    .dataframe thead th {\n",
       "        text-align: right;\n",
       "    }\n",
       "</style>\n",
       "<table border=\"1\" class=\"dataframe\">\n",
       "  <thead>\n",
       "    <tr style=\"text-align: right;\">\n",
       "      <th></th>\n",
       "      <th>charges</th>\n",
       "      <th>age</th>\n",
       "      <th>region</th>\n",
       "    </tr>\n",
       "  </thead>\n",
       "  <tbody>\n",
       "    <tr>\n",
       "      <th>charges</th>\n",
       "      <td>1.000000</td>\n",
       "      <td>0.299008</td>\n",
       "      <td>-0.006208</td>\n",
       "    </tr>\n",
       "    <tr>\n",
       "      <th>age</th>\n",
       "      <td>0.299008</td>\n",
       "      <td>1.000000</td>\n",
       "      <td>0.002127</td>\n",
       "    </tr>\n",
       "    <tr>\n",
       "      <th>region</th>\n",
       "      <td>-0.006208</td>\n",
       "      <td>0.002127</td>\n",
       "      <td>1.000000</td>\n",
       "    </tr>\n",
       "  </tbody>\n",
       "</table>\n",
       "</div>"
      ],
      "text/plain": [
       "          charges       age    region\n",
       "charges  1.000000  0.299008 -0.006208\n",
       "age      0.299008  1.000000  0.002127\n",
       "region  -0.006208  0.002127  1.000000"
      ]
     },
     "execution_count": 6,
     "metadata": {},
     "output_type": "execute_result"
    }
   ],
   "source": [
    "# \tCorrelation Analysis\n",
    "df2 = df[['charges', 'age', 'region']]\n",
    "corr = df2.corr()\n",
    "corr"
   ]
  },
  {
   "cell_type": "code",
   "execution_count": 7,
   "metadata": {},
   "outputs": [
    {
     "data": {
      "text/plain": [
       "<Axes: >"
      ]
     },
     "execution_count": 7,
     "metadata": {},
     "output_type": "execute_result"
    },
    {
     "data": {
      "image/png": "[encoded data removed]",
      "text/plain": [
       "<Figure size 640x480 with 2 Axes>"
      ]
     },
     "metadata": {},
     "output_type": "display_data"
    }
   ],
   "source": [
    "sns.heatmap(corr,annot=True, fmt = '0.3g')"
   ]
  },
  {
   "cell_type": "code",
   "execution_count": 8,
   "metadata": {},
   "outputs": [],
   "source": [
    "X = df.drop(['charges'],axis = 1) \n",
    "Y = df['charges'] "
   ]
  },
  {
   "cell_type": "code",
   "execution_count": 9,
   "metadata": {},
   "outputs": [
    {
     "data": {
      "image/png": "[encoded data removed]",
      "text/plain": [
       "<Figure size 640x480 with 1 Axes>"
      ]
     },
     "metadata": {},
     "output_type": "display_data"
    }
   ],
   "source": [
    "from sklearn.feature_selection import mutual_info_classif, mutual_info_regression\n",
    "plt.style.use('ggplot')\n",
    "importance = mutual_info_regression(X,Y)\n",
    "feature_impor = pd.Series(importance,X.columns[0:len(X.columns)])\n",
    "feature_impor.plot(kind = 'barh', color = 'navy')\n",
    "plt.show()"
   ]
  },
  {
   "cell_type": "code",
   "execution_count": 10,
   "metadata": {},
   "outputs": [],
   "source": [
    "# Data Splitting\n",
    "# split the data for testing and training\n",
    "xtrain,xtest,ytrain,ytest = train_test_split(X,Y, test_size=0.2,random_state=1)"
   ]
  },
  {
   "cell_type": "code",
   "execution_count": 11,
   "metadata": {},
   "outputs": [
    {
     "data": {
      "text/html": [
       "<style>#sk-container-id-1 {color: black;}#sk-container-id-1 pre{padding: 0;}#sk-container-id-1 div.sk-toggleable {background-color: white;}#sk-container-id-1 label.sk-toggleable__label {cursor: pointer;display: block;width: 100%;margin-bottom: 0;padding: 0.3em;box-sizing: border-box;text-align: center;}#sk-container-id-1 label.sk-toggleable__label-arrow:before {content: \"▸\";float: left;margin-right: 0.25em;color: #696969;}#sk-container-id-1 label.sk-toggleable__label-arrow:hover:before {color: black;}#sk-container-id-1 div.sk-estimator:hover label.sk-toggleable__label-arrow:before {color: black;}#sk-container-id-1 div.sk-toggleable__content {max-height: 0;max-width: 0;overflow: hidden;text-align: left;background-color: #f0f8ff;}#sk-container-id-1 div.sk-toggleable__content pre {margin: 0.2em;color: black;border-radius: 0.25em;background-color: #f0f8ff;}#sk-container-id-1 input.sk-toggleable__control:checked~div.sk-toggleable__content {max-height: 200px;max-width: 100%;overflow: auto;}#sk-container-id-1 input.sk-toggleable__control:checked~label.sk-toggleable__label-arrow:before {content: \"▾\";}#sk-container-id-1 div.sk-estimator input.sk-toggleable__control:checked~label.sk-toggleable__label {background-color: #d4ebff;}#sk-container-id-1 div.sk-label input.sk-toggleable__control:checked~label.sk-toggleable__label {background-color: #d4ebff;}#sk-container-id-1 input.sk-hidden--visually {border: 0;clip: rect(1px 1px 1px 1px);clip: rect(1px, 1px, 1px, 1px);height: 1px;margin: -1px;overflow: hidden;padding: 0;position: absolute;width: 1px;}#sk-container-id-1 div.sk-estimator {font-family: monospace;background-color: #f0f8ff;border: 1px dotted black;border-radius: 0.25em;box-sizing: border-box;margin-bottom: 0.5em;}#sk-container-id-1 div.sk-estimator:hover {background-color: #d4ebff;}#sk-container-id-1 div.sk-parallel-item::after {content: \"\";width: 100%;border-bottom: 1px solid gray;flex-grow: 1;}#sk-container-id-1 div.sk-label:hover label.sk-toggleable__label {background-color: #d4ebff;}#sk-container-id-1 div.sk-serial::before {content: \"\";position: absolute;border-left: 1px solid gray;box-sizing: border-box;top: 0;bottom: 0;left: 50%;z-index: 0;}#sk-container-id-1 div.sk-serial {display: flex;flex-direction: column;align-items: center;background-color: white;padding-right: 0.2em;padding-left: 0.2em;position: relative;}#sk-container-id-1 div.sk-item {position: relative;z-index: 1;}#sk-container-id-1 div.sk-parallel {display: flex;align-items: stretch;justify-content: center;background-color: white;position: relative;}#sk-container-id-1 div.sk-item::before, #sk-container-id-1 div.sk-parallel-item::before {content: \"\";position: absolute;border-left: 1px solid gray;box-sizing: border-box;top: 0;bottom: 0;left: 50%;z-index: -1;}#sk-container-id-1 div.sk-parallel-item {display: flex;flex-direction: column;z-index: 1;position: relative;background-color: white;}#sk-container-id-1 div.sk-parallel-item:first-child::after {align-self: flex-end;width: 50%;}#sk-container-id-1 div.sk-parallel-item:last-child::after {align-self: flex-start;width: 50%;}#sk-container-id-1 div.sk-parallel-item:only-child::after {width: 0;}#sk-container-id-1 div.sk-dashed-wrapped {border: 1px dashed gray;margin: 0 0.4em 0.5em 0.4em;box-sizing: border-box;padding-bottom: 0.4em;background-color: white;}#sk-container-id-1 div.sk-label label {font-family: monospace;font-weight: bold;display: inline-block;line-height: 1.2em;}#sk-container-id-1 div.sk-label-container {text-align: center;}#sk-container-id-1 div.sk-container {/* jupyter's `normalize.less` sets `[hidden] { display: none; }` but bootstrap.min.css set `[hidden] { display: none !important; }` so we also need the `!important` here to be able to override the default hidden behavior on the sphinx rendered scikit-learn.org. See: https://github.com/scikit-learn/scikit-learn/issues/21755 */display: inline-block !important;position: relative;}#sk-container-id-1 div.sk-text-repr-fallback {display: none;}</style><div id=\"sk-container-id-1\" class=\"sk-top-container\"><div class=\"sk-text-repr-fallback\"><pre>LinearRegression()</pre><b>In a Jupyter environment, please rerun this cell to show the HTML representation or trust the notebook. <br />On GitHub, the HTML representation is unable to render, please try loading this page with nbviewer.org.</b></div><div class=\"sk-container\" hidden><div class=\"sk-item\"><div class=\"sk-estimator sk-toggleable\"><input class=\"sk-toggleable__control sk-hidden--visually\" id=\"sk-estimator-id-1\" type=\"checkbox\" checked><label for=\"sk-estimator-id-1\" class=\"sk-toggleable__label sk-toggleable__label-arrow\">LinearRegression</label><div class=\"sk-toggleable__content\"><pre>LinearRegression()</pre></div></div></div></div></div>"
      ],
      "text/plain": [
       "LinearRegression()"
      ]
     },
     "execution_count": 11,
     "metadata": {},
     "output_type": "execute_result"
    }
   ],
   "source": [
    "LinearModel = LinearRegression() \n",
    "LinearModel.fit(xtrain,ytrain) "
   ]
  },
  {
   "cell_type": "code",
   "execution_count": 12,
   "metadata": {},
   "outputs": [
    {
     "data": {
      "text/plain": [
       "array([ 4312.08656955, 12859.49737555, 12370.50358911, 13549.5511475 ,\n",
       "         410.55490166, 32052.76977091, 13170.26923221, 12248.5052133 ,\n",
       "        3713.54941225, 29760.32281711, 11338.50159148, 17269.6492891 ,\n",
       "        8961.13430709,  8184.25429812,  3376.85292436, 10278.37012511,\n",
       "        3883.36513262,  6793.01504696, 15270.57009799, 14255.67564306,\n",
       "       12438.83818074, 33176.73034139,  9068.32669468,  8835.62475682,\n",
       "        2922.83938461,  8155.7017465 ,  9497.57563203, 11015.04509043,\n",
       "        7503.17666222,  4307.99883589, 13939.03683704,  5657.88640469,\n",
       "       34592.37757194, 26941.6112407 , 33661.91509295,  9552.53576302,\n",
       "       30183.50964412, 26485.52800009, 15397.47566838, 33857.57796843,\n",
       "        6575.23382913, 14015.49951905, 11034.83628114, 14878.37537422,\n",
       "        4056.87355672, 13036.25142266,  4582.39598034, 28857.50476848,\n",
       "        7305.25026916, 14215.34197814, 13570.38542044, 12171.25378059,\n",
       "        1860.5537778 ,  8743.00482524, 25989.68277284, 10318.04975471,\n",
       "       34486.04416316, 14338.30219512,  3181.55608612,  6080.26510845,\n",
       "        6805.93170349, 14850.7770469 , 27218.86704763,  3253.69992296,\n",
       "       15670.34534562, 11189.05910351, 11134.10274131, 10803.39805584,\n",
       "        1526.35969822, 25214.68574313, 37501.02981236, 32970.61746419,\n",
       "        1806.14883018, 11381.38266567, 13670.64910201, 34834.70308328,\n",
       "        3182.15958674,  4170.13558842, 10218.42642933, 10445.94054979,\n",
       "         -81.47899342, 14040.85062666, 10358.75515028,  2977.94382045,\n",
       "       33372.19998048, 33274.98619064,  7018.44717911, 37901.71133648,\n",
       "       12763.51814323, 10278.96809524, 30086.92830343, 33949.44276786,\n",
       "       15034.31423076, 11080.69263853,   241.21414315, 10847.73730886,\n",
       "        9498.12889138, 15220.69439026, 14918.33910586,  6038.27994848,\n",
       "       13637.75239824, 26035.2081038 , 27985.82144936, 27187.79677414,\n",
       "       35652.31039868, 27080.54001363,   482.8002086 ,  9092.08453479,\n",
       "        4934.54527887, 12379.61714579,  5635.21132763,  5088.7470156 ,\n",
       "        1049.40205133, 18727.39461522,  3260.57785266,  1498.81612309,\n",
       "       11488.86566623, 12616.47074155, 11736.9649684 ,  3676.96860592,\n",
       "        8764.85785774, 13804.05341753,  8015.30902207,  6448.7055193 ,\n",
       "       36941.0778145 , 11982.44929993, 12209.48808911, 29612.82776442,\n",
       "       36276.58800068, 11420.38054514, 28322.23768328,  -546.59246324,\n",
       "        8189.23941751, 31842.20934743,  8118.64544653,  -809.04011247,\n",
       "        1169.13359329,  4834.23860021,  7653.06450448, 12463.48816569,\n",
       "       14784.38390755,  8965.17519559, 29219.84637633, 15975.11348569,\n",
       "       14606.73218512, 11116.21791282,  2194.77177211,  9885.01524527,\n",
       "        4031.70569207,  6193.75146003, 11641.24813701,  5475.96194012,\n",
       "       14523.9850806 , 13600.04390773, 12919.59507942,  6866.02502751,\n",
       "       12293.73260075, 10856.95409732, 10207.49192487,  4326.8515678 ,\n",
       "        5930.03964571, 40634.18158191, 13347.21405989,  4126.77193551,\n",
       "        8398.99962478,  4913.40053336, 32442.96043116, 11099.14173935,\n",
       "       10817.0841391 ,  6818.7976668 ,  6268.40376743,  6639.07980141,\n",
       "       33047.27084751, 34902.3894635 ,  2190.4602542 ,  7597.40325082,\n",
       "        4991.15682567, 15456.58393065,  1462.05563226, 11639.30115426,\n",
       "       13365.51316303, 11473.2140089 , 10530.82979747, 13059.5326185 ,\n",
       "        2415.92969062, 27802.32918662,  2643.00177306, 14947.11359695,\n",
       "        6339.58109309, 10524.41143354, 14955.50048238, 39062.99638052,\n",
       "        1979.8141267 ,  1496.42681273,  5224.51873387,  7447.4584109 ,\n",
       "        8216.10746713,  4436.67113366, 10715.39290581,  9247.61451934,\n",
       "        9654.13183065, 10890.64991464, 10214.42092106,  9515.68039613,\n",
       "        8063.28983308,  1195.02989086, 10024.28605762,  7626.34698431,\n",
       "        6457.23895447, 11547.72422566,  5330.56996465, 33191.71875446,\n",
       "        6983.08892975,  6106.67551691,  7725.53588912, 38764.50111821,\n",
       "       11865.90507033, 28582.48917928,  3134.2390104 , 33013.28212939,\n",
       "        3588.53496976, 31911.29944447, 13801.38754275,  2705.29956189,\n",
       "        1887.522845  ,  1118.95409013,  6084.69918595,  4256.08466873,\n",
       "       25384.0733468 , 15994.37095135,  5298.25383106, 13356.97649084,\n",
       "       39151.57210732,  4785.65760543, 12646.75041956, 11165.47656805,\n",
       "       27790.56907972,  2755.57652416, 13248.62111809,  6014.94465948,\n",
       "       15395.98010219,  5989.53577299, 16812.99857766,  4162.44552506,\n",
       "       12472.86064466, 34628.8378258 , 10928.99314777, 10419.58120782,\n",
       "        5146.33432486, 16671.10975524, 14339.82892021,  5427.24655082,\n",
       "       11475.43592163, 12781.49228219,  4533.11771097,  7008.05601983,\n",
       "       27523.08147582, 32149.80469763,  -447.24222308, 40172.29289106,\n",
       "        9698.36830443,  7755.19384462, 10945.91191704, 33330.12756132,\n",
       "       35851.35034427, 36871.78109155,  4885.66441598,  6051.92303465])"
      ]
     },
     "execution_count": 12,
     "metadata": {},
     "output_type": "execute_result"
    }
   ],
   "source": [
    "pred1 = LinearModel.predict(xtest) # predicting to validate the model\n",
    "pred1"
   ]
  },
  {
   "cell_type": "code",
   "execution_count": 13,
   "metadata": {},
   "outputs": [
    {
     "name": "stdout",
     "output_type": "stream",
     "text": [
      "MAE 4056.118305662652\n",
      "MSE 35480663.81217908\n",
      "R2 SCORE 0.7623224022563388\n",
      "MAPE 0.41027328055887846\n"
     ]
    }
   ],
   "source": [
    "print('MAE', mean_absolute_error(ytest,pred1))\n",
    "print('MSE', mean_squared_error(ytest,pred1))\n",
    "print('R2 SCORE', r2_score(ytest,pred1))\n",
    "print('MAPE',mean_absolute_percentage_error(ytest,pred1))"
   ]
  },
  {
   "cell_type": "code",
   "execution_count": 14,
   "metadata": {},
   "outputs": [
    {
     "data": {
      "text/html": [
       "<div>\n",
       "<style scoped>\n",
       "    .dataframe tbody tr th:only-of-type {\n",
       "        vertical-align: middle;\n",
       "    }\n",
       "\n",
       "    .dataframe tbody tr th {\n",
       "        vertical-align: top;\n",
       "    }\n",
       "\n",
       "    .dataframe thead th {\n",
       "        text-align: right;\n",
       "    }\n",
       "</style>\n",
       "<table border=\"1\" class=\"dataframe\">\n",
       "  <thead>\n",
       "    <tr style=\"text-align: right;\">\n",
       "      <th></th>\n",
       "      <th>Actual Price</th>\n",
       "      <th>Predicted Price</th>\n",
       "    </tr>\n",
       "  </thead>\n",
       "  <tbody>\n",
       "    <tr>\n",
       "      <th>559</th>\n",
       "      <td>1646.42970</td>\n",
       "      <td>4312.086570</td>\n",
       "    </tr>\n",
       "    <tr>\n",
       "      <th>1087</th>\n",
       "      <td>11353.22760</td>\n",
       "      <td>12859.497376</td>\n",
       "    </tr>\n",
       "    <tr>\n",
       "      <th>1020</th>\n",
       "      <td>8798.59300</td>\n",
       "      <td>12370.503589</td>\n",
       "    </tr>\n",
       "    <tr>\n",
       "      <th>460</th>\n",
       "      <td>10381.47870</td>\n",
       "      <td>13549.551148</td>\n",
       "    </tr>\n",
       "    <tr>\n",
       "      <th>802</th>\n",
       "      <td>2103.08000</td>\n",
       "      <td>410.554902</td>\n",
       "    </tr>\n",
       "    <tr>\n",
       "      <th>...</th>\n",
       "      <td>...</td>\n",
       "      <td>...</td>\n",
       "    </tr>\n",
       "    <tr>\n",
       "      <th>682</th>\n",
       "      <td>40103.89000</td>\n",
       "      <td>33330.127561</td>\n",
       "    </tr>\n",
       "    <tr>\n",
       "      <th>629</th>\n",
       "      <td>42983.45850</td>\n",
       "      <td>35851.350344</td>\n",
       "    </tr>\n",
       "    <tr>\n",
       "      <th>893</th>\n",
       "      <td>44202.65360</td>\n",
       "      <td>36871.781092</td>\n",
       "    </tr>\n",
       "    <tr>\n",
       "      <th>807</th>\n",
       "      <td>2136.88225</td>\n",
       "      <td>4885.664416</td>\n",
       "    </tr>\n",
       "    <tr>\n",
       "      <th>1165</th>\n",
       "      <td>5227.98875</td>\n",
       "      <td>6051.923035</td>\n",
       "    </tr>\n",
       "  </tbody>\n",
       "</table>\n",
       "<p>268 rows × 2 columns</p>\n",
       "</div>"
      ],
      "text/plain": [
       "      Actual Price  Predicted Price\n",
       "559     1646.42970      4312.086570\n",
       "1087   11353.22760     12859.497376\n",
       "1020    8798.59300     12370.503589\n",
       "460    10381.47870     13549.551148\n",
       "802     2103.08000       410.554902\n",
       "...            ...              ...\n",
       "682    40103.89000     33330.127561\n",
       "629    42983.45850     35851.350344\n",
       "893    44202.65360     36871.781092\n",
       "807     2136.88225      4885.664416\n",
       "1165    5227.98875      6051.923035\n",
       "\n",
       "[268 rows x 2 columns]"
      ]
     },
     "execution_count": 14,
     "metadata": {},
     "output_type": "execute_result"
    }
   ],
   "source": [
    "outcome = {\n",
    "    'Actual Price':ytest,\n",
    "    'Predicted Price':pred1\n",
    "}\n",
    "df = pd.DataFrame(outcome)\n",
    "df"
   ]
  },
  {
   "cell_type": "code",
   "execution_count": 15,
   "metadata": {},
   "outputs": [
    {
     "data": {
      "text/html": [
       "<style>#sk-container-id-2 {color: black;}#sk-container-id-2 pre{padding: 0;}#sk-container-id-2 div.sk-toggleable {background-color: white;}#sk-container-id-2 label.sk-toggleable__label {cursor: pointer;display: block;width: 100%;margin-bottom: 0;padding: 0.3em;box-sizing: border-box;text-align: center;}#sk-container-id-2 label.sk-toggleable__label-arrow:before {content: \"▸\";float: left;margin-right: 0.25em;color: #696969;}#sk-container-id-2 label.sk-toggleable__label-arrow:hover:before {color: black;}#sk-container-id-2 div.sk-estimator:hover label.sk-toggleable__label-arrow:before {color: black;}#sk-container-id-2 div.sk-toggleable__content {max-height: 0;max-width: 0;overflow: hidden;text-align: left;background-color: #f0f8ff;}#sk-container-id-2 div.sk-toggleable__content pre {margin: 0.2em;color: black;border-radius: 0.25em;background-color: #f0f8ff;}#sk-container-id-2 input.sk-toggleable__control:checked~div.sk-toggleable__content {max-height: 200px;max-width: 100%;overflow: auto;}#sk-container-id-2 input.sk-toggleable__control:checked~label.sk-toggleable__label-arrow:before {content: \"▾\";}#sk-container-id-2 div.sk-estimator input.sk-toggleable__control:checked~label.sk-toggleable__label {background-color: #d4ebff;}#sk-container-id-2 div.sk-label input.sk-toggleable__control:checked~label.sk-toggleable__label {background-color: #d4ebff;}#sk-container-id-2 input.sk-hidden--visually {border: 0;clip: rect(1px 1px 1px 1px);clip: rect(1px, 1px, 1px, 1px);height: 1px;margin: -1px;overflow: hidden;padding: 0;position: absolute;width: 1px;}#sk-container-id-2 div.sk-estimator {font-family: monospace;background-color: #f0f8ff;border: 1px dotted black;border-radius: 0.25em;box-sizing: border-box;margin-bottom: 0.5em;}#sk-container-id-2 div.sk-estimator:hover {background-color: #d4ebff;}#sk-container-id-2 div.sk-parallel-item::after {content: \"\";width: 100%;border-bottom: 1px solid gray;flex-grow: 1;}#sk-container-id-2 div.sk-label:hover label.sk-toggleable__label {background-color: #d4ebff;}#sk-container-id-2 div.sk-serial::before {content: \"\";position: absolute;border-left: 1px solid gray;box-sizing: border-box;top: 0;bottom: 0;left: 50%;z-index: 0;}#sk-container-id-2 div.sk-serial {display: flex;flex-direction: column;align-items: center;background-color: white;padding-right: 0.2em;padding-left: 0.2em;position: relative;}#sk-container-id-2 div.sk-item {position: relative;z-index: 1;}#sk-container-id-2 div.sk-parallel {display: flex;align-items: stretch;justify-content: center;background-color: white;position: relative;}#sk-container-id-2 div.sk-item::before, #sk-container-id-2 div.sk-parallel-item::before {content: \"\";position: absolute;border-left: 1px solid gray;box-sizing: border-box;top: 0;bottom: 0;left: 50%;z-index: -1;}#sk-container-id-2 div.sk-parallel-item {display: flex;flex-direction: column;z-index: 1;position: relative;background-color: white;}#sk-container-id-2 div.sk-parallel-item:first-child::after {align-self: flex-end;width: 50%;}#sk-container-id-2 div.sk-parallel-item:last-child::after {align-self: flex-start;width: 50%;}#sk-container-id-2 div.sk-parallel-item:only-child::after {width: 0;}#sk-container-id-2 div.sk-dashed-wrapped {border: 1px dashed gray;margin: 0 0.4em 0.5em 0.4em;box-sizing: border-box;padding-bottom: 0.4em;background-color: white;}#sk-container-id-2 div.sk-label label {font-family: monospace;font-weight: bold;display: inline-block;line-height: 1.2em;}#sk-container-id-2 div.sk-label-container {text-align: center;}#sk-container-id-2 div.sk-container {/* jupyter's `normalize.less` sets `[hidden] { display: none; }` but bootstrap.min.css set `[hidden] { display: none !important; }` so we also need the `!important` here to be able to override the default hidden behavior on the sphinx rendered scikit-learn.org. See: https://github.com/scikit-learn/scikit-learn/issues/21755 */display: inline-block !important;position: relative;}#sk-container-id-2 div.sk-text-repr-fallback {display: none;}</style><div id=\"sk-container-id-2\" class=\"sk-top-container\"><div class=\"sk-text-repr-fallback\"><pre>DecisionTreeRegressor()</pre><b>In a Jupyter environment, please rerun this cell to show the HTML representation or trust the notebook. <br />On GitHub, the HTML representation is unable to render, please try loading this page with nbviewer.org.</b></div><div class=\"sk-container\" hidden><div class=\"sk-item\"><div class=\"sk-estimator sk-toggleable\"><input class=\"sk-toggleable__control sk-hidden--visually\" id=\"sk-estimator-id-2\" type=\"checkbox\" checked><label for=\"sk-estimator-id-2\" class=\"sk-toggleable__label sk-toggleable__label-arrow\">DecisionTreeRegressor</label><div class=\"sk-toggleable__content\"><pre>DecisionTreeRegressor()</pre></div></div></div></div></div>"
      ],
      "text/plain": [
       "DecisionTreeRegressor()"
      ]
     },
     "execution_count": 15,
     "metadata": {},
     "output_type": "execute_result"
    }
   ],
   "source": [
    "# training another model\n",
    "tree = DecisionTreeRegressor()\n",
    "tree.fit(xtrain,ytrain)"
   ]
  },
  {
   "cell_type": "code",
   "execution_count": 16,
   "metadata": {},
   "outputs": [
    {
     "data": {
      "text/plain": [
       "array([ 1137.011  , 11842.62375,  8457.818  ,  8280.6227 ,  1964.78   ,\n",
       "       39983.42595,  8978.1851 , 11658.37915,  3857.75925, 20296.86345,\n",
       "       13012.20865, 12646.207  ,  6313.759  ,  6496.886  ,  1137.011  ,\n",
       "        8062.764  ,  4185.0979 ,  5926.846  , 27941.28758, 13844.7972 ,\n",
       "        9140.951  , 40419.0191 ,  7421.19455,  8601.3293 , 21344.8467 ,\n",
       "        6393.60345,  6067.12675,  8280.6227 ,  5836.5204 ,  3857.75925,\n",
       "       10601.412  ,  5124.1887 , 35069.37452, 36898.73308, 21978.6769 ,\n",
       "       10422.91665, 44585.45587, 16232.847  , 11365.952  , 39556.4945 ,\n",
       "        5138.2567 , 12231.6136 , 10702.6424 , 16085.1275 ,  4934.705  ,\n",
       "       12129.61415,  1980.07   , 37270.1512 ,  9361.3268 , 13224.05705,\n",
       "       13143.86485, 12105.32   ,  2395.17155,  9414.92   , 16450.8947 ,\n",
       "        3989.841  , 40974.1649 , 13844.7972 , 14426.07385,  1146.7966 ,\n",
       "        2689.4954 , 13143.86485, 35147.52848,  2850.68375, 13228.84695,\n",
       "       26392.26029, 10156.7832 , 12032.326  ,  2710.82855, 14455.64405,\n",
       "       44641.1974 , 55135.40209,  2331.519  , 12475.3513 , 13390.559  ,\n",
       "       41661.602  ,  3309.7926 ,  3062.50825, 11454.0215 , 30284.64294,\n",
       "        2585.85065, 11881.9696 , 10355.641  ,  2632.992  , 37701.8768 ,\n",
       "       40904.1995 ,  6496.886  , 48885.13561, 11436.73815,  7261.741  ,\n",
       "       20773.62775, 35069.37452, 14001.1338 ,  8280.6227 ,  1627.28245,\n",
       "        9724.53   , 26140.3603 , 20462.99766, 11363.2832 ,  7228.21565,\n",
       "       12231.6136 , 14455.64405, 18765.87545, 34828.654  , 26926.5144 ,\n",
       "       35147.52848,  2196.4732 ,  7445.918  ,  1629.8335 , 24476.47851,\n",
       "        4571.41305,  3484.331  ,  2221.56445, 15170.069  ,  3309.7926 ,\n",
       "        1906.35825,  6059.173  , 12124.9924 , 24915.04626,  2404.7338 ,\n",
       "        8442.667  , 10115.00885,  6112.35295,  7345.084  , 41097.16175,\n",
       "        8068.185  , 11987.1682 , 18765.87545, 40419.0191 ,  7726.854  ,\n",
       "       36219.40545,  1964.78   ,  7077.1894 , 40273.6455 ,  7345.084  ,\n",
       "        1607.5101 ,  2221.56445, 14133.03775, 10197.7722 , 12797.20962,\n",
       "       13635.6379 ,  6548.19505, 20984.0936 , 14319.031  , 13224.05705,\n",
       "        9869.8102 ,  1720.3537 ,  7682.67   ,  1137.011  ,  7281.5056 ,\n",
       "        7147.4728 ,  3925.7582 , 26467.09737, 11394.06555,  9800.8882 ,\n",
       "        6250.435  ,  8835.26495,  9617.66245,  9447.25035,  2632.992  ,\n",
       "        4571.41305, 47496.49445, 11842.62375,  3410.324  ,  5425.02335,\n",
       "        1532.4697 , 44585.45587, 10338.9316 , 11454.0215 ,  5458.04645,\n",
       "        5253.524  ,  2689.4954 , 35069.37452, 26926.5144 ,  2974.126  ,\n",
       "        7077.1894 ,  3410.324  , 14001.1338 ,  3558.62025,  5989.52365,\n",
       "       12146.971  , 13415.0381 ,  8688.85885, 28476.73499,  3208.787  ,\n",
       "       18310.742  ,  2154.361  ,  9800.8882 ,  7222.78625,  8162.71625,\n",
       "       13112.6048 , 45702.02235,  4134.08245,  2710.82855,  7201.70085,\n",
       "        8782.469  ,  6184.2994 ,  2138.0707 , 30284.64294,  8232.6388 ,\n",
       "        5699.8375 ,  7162.0122 , 12105.32   ,  6313.759  ,  6455.86265,\n",
       "        2198.18985,  6067.12675,  6770.1925 , 12890.05765, 11842.442  ,\n",
       "        3558.62025, 24667.419  ,  4466.6214 ,  3500.6123 ,  5253.524  ,\n",
       "       47305.305  ,  9869.8102 , 34166.273  ,  1725.5523 , 62592.87309,\n",
       "        2203.73595, 26926.5144 , 11881.9696 ,  4846.92015,  2221.56445,\n",
       "        1972.95   ,  3972.9247 ,  2632.992  , 16884.924  , 13887.204  ,\n",
       "       26018.95052, 14001.1338 , 45702.02235,  7228.21565, 12475.3513 ,\n",
       "       10704.47   , 18608.262  ,  1639.5631 ,  8733.22925,  4562.8421 ,\n",
       "        9800.8882 ,  2166.732  , 27941.28758,  1824.2854 , 10601.63225,\n",
       "       35069.37452,  7441.501  ,  8556.907  ,  3392.9768 , 14410.9321 ,\n",
       "       10579.711  ,  5031.26955, 28923.13692,  9386.1613 ,  2727.3951 ,\n",
       "        2741.948  , 33732.6867 , 21472.4788 ,  1627.28245, 47896.79135,\n",
       "        8211.1002 ,  6389.37785,  8232.6388 , 44585.45587, 48885.13561,\n",
       "       45702.02235,  2138.0707 ,  4992.3764 ])"
      ]
     },
     "execution_count": 16,
     "metadata": {},
     "output_type": "execute_result"
    }
   ],
   "source": [
    "pred2 = tree.predict(xtest) # predicting to validate the model\n",
    "pred2"
   ]
  },
  {
   "cell_type": "code",
   "execution_count": 17,
   "metadata": {},
   "outputs": [
    {
     "name": "stdout",
     "output_type": "stream",
     "text": [
      "MAE 2598.192157873134\n",
      "MSE 32552683.55437392\n",
      "R2 SCORE 0.7819363338783599\n",
      "MAPE 0.2797707704801156\n"
     ]
    }
   ],
   "source": [
    "print('MAE', mean_absolute_error(ytest,pred2))\n",
    "print('MSE', mean_squared_error(ytest,pred2))\n",
    "print('R2 SCORE', r2_score(ytest,pred2))\n",
    "print('MAPE',mean_absolute_percentage_error(ytest,pred2))"
   ]
  },
  {
   "cell_type": "code",
   "execution_count": 18,
   "metadata": {},
   "outputs": [
    {
     "data": {
      "text/html": [
       "<div>\n",
       "<style scoped>\n",
       "    .dataframe tbody tr th:only-of-type {\n",
       "        vertical-align: middle;\n",
       "    }\n",
       "\n",
       "    .dataframe tbody tr th {\n",
       "        vertical-align: top;\n",
       "    }\n",
       "\n",
       "    .dataframe thead th {\n",
       "        text-align: right;\n",
       "    }\n",
       "</style>\n",
       "<table border=\"1\" class=\"dataframe\">\n",
       "  <thead>\n",
       "    <tr style=\"text-align: right;\">\n",
       "      <th></th>\n",
       "      <th>Actual Price</th>\n",
       "      <th>Predicted Price</th>\n",
       "    </tr>\n",
       "  </thead>\n",
       "  <tbody>\n",
       "    <tr>\n",
       "      <th>559</th>\n",
       "      <td>1646.42970</td>\n",
       "      <td>4312.086570</td>\n",
       "    </tr>\n",
       "    <tr>\n",
       "      <th>1087</th>\n",
       "      <td>11353.22760</td>\n",
       "      <td>12859.497376</td>\n",
       "    </tr>\n",
       "    <tr>\n",
       "      <th>1020</th>\n",
       "      <td>8798.59300</td>\n",
       "      <td>12370.503589</td>\n",
       "    </tr>\n",
       "    <tr>\n",
       "      <th>460</th>\n",
       "      <td>10381.47870</td>\n",
       "      <td>13549.551148</td>\n",
       "    </tr>\n",
       "    <tr>\n",
       "      <th>802</th>\n",
       "      <td>2103.08000</td>\n",
       "      <td>410.554902</td>\n",
       "    </tr>\n",
       "    <tr>\n",
       "      <th>...</th>\n",
       "      <td>...</td>\n",
       "      <td>...</td>\n",
       "    </tr>\n",
       "    <tr>\n",
       "      <th>682</th>\n",
       "      <td>40103.89000</td>\n",
       "      <td>33330.127561</td>\n",
       "    </tr>\n",
       "    <tr>\n",
       "      <th>629</th>\n",
       "      <td>42983.45850</td>\n",
       "      <td>35851.350344</td>\n",
       "    </tr>\n",
       "    <tr>\n",
       "      <th>893</th>\n",
       "      <td>44202.65360</td>\n",
       "      <td>36871.781092</td>\n",
       "    </tr>\n",
       "    <tr>\n",
       "      <th>807</th>\n",
       "      <td>2136.88225</td>\n",
       "      <td>4885.664416</td>\n",
       "    </tr>\n",
       "    <tr>\n",
       "      <th>1165</th>\n",
       "      <td>5227.98875</td>\n",
       "      <td>6051.923035</td>\n",
       "    </tr>\n",
       "  </tbody>\n",
       "</table>\n",
       "<p>268 rows × 2 columns</p>\n",
       "</div>"
      ],
      "text/plain": [
       "      Actual Price  Predicted Price\n",
       "559     1646.42970      4312.086570\n",
       "1087   11353.22760     12859.497376\n",
       "1020    8798.59300     12370.503589\n",
       "460    10381.47870     13549.551148\n",
       "802     2103.08000       410.554902\n",
       "...            ...              ...\n",
       "682    40103.89000     33330.127561\n",
       "629    42983.45850     35851.350344\n",
       "893    44202.65360     36871.781092\n",
       "807     2136.88225      4885.664416\n",
       "1165    5227.98875      6051.923035\n",
       "\n",
       "[268 rows x 2 columns]"
      ]
     },
     "execution_count": 18,
     "metadata": {},
     "output_type": "execute_result"
    }
   ],
   "source": [
    "outcome = {\n",
    "    'Actual Price':ytest,\n",
    "    'Predicted Price':pred1\n",
    "}\n",
    "df2 = pd.DataFrame(outcome)\n",
    "df2"
   ]
  },
  {
   "cell_type": "code",
   "execution_count": 19,
   "metadata": {},
   "outputs": [
    {
     "data": {
      "text/plain": [
       "<Axes: xlabel='charges'>"
      ]
     },
     "execution_count": 19,
     "metadata": {},
     "output_type": "execute_result"
    },
    {
     "data": {
      "image/png": "[encoded data removed]",
      "text/plain": [
       "<Figure size 640x480 with 1 Axes>"
      ]
     },
     "metadata": {},
     "output_type": "display_data"
    }
   ],
   "source": [
    "sns.regplot(x = ytest,y = pred2) "
   ]
  },
  {
   "cell_type": "code",
   "execution_count": null,
   "metadata": {},
   "outputs": [],
   "source": []
  }
 ],
 "metadata": {
  "kernelspec": {
   "display_name": "Python 3",
   "language": "python",
   "name": "python3"
  },
  "language_info": {
   "codemirror_mode": {
    "name": "ipython",
    "version": 3
   },
   "file_extension": ".py",
   "mimetype": "text/x-python",
   "name": "python",
   "nbconvert_exporter": "python",
   "pygments_lexer": "ipython3",
   "version": "3.12.0"
  }
 },
 "nbformat": 4,
 "nbformat_minor": 2
}
